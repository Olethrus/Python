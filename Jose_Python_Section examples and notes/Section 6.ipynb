{
 "cells": [
  {
   "cell_type": "markdown",
   "metadata": {},
   "source": [
    "# Section 6 - methods"
   ]
  },
  {
   "cell_type": "code",
   "execution_count": null,
   "metadata": {},
   "outputs": [],
   "source": [
    "mylist = [1,2,3]\n",
    "help(mylist.insert) # display the help file"
   ]
  },
  {
   "cell_type": "markdown",
   "metadata": {},
   "source": [
    "# Functions\n"
   ]
  },
  {
   "cell_type": "code",
   "execution_count": null,
   "metadata": {},
   "outputs": [],
   "source": [
    "# can create a re useable section of code to pass in paramaters to\n",
    "def your_function(str_Name = 'Default'): # use all lower case and underscores for name as\n",
    "                     # a standard can pass in paramaters in the ()\n",
    "                     # verify user data type when passing in since\n",
    "                     # You don't define the data type\n",
    "        ''' Long explination multi line\n",
    "        \n",
    "        \n",
    "        '''\n",
    "        print(\"This is my function wrote by \" + str_Name)\n",
    "        return \"William\"              # can return the result as a \n",
    "                                      # variable this will exit the function\n",
    "\n",
    "print(your_function(\"William\"))\n",
    "\n",
    "# Functions are tabbed in twice"
   ]
  },
  {
   "cell_type": "code",
   "execution_count": null,
   "metadata": {},
   "outputs": [],
   "source": [
    "def check_even_lst(lst_Even):\n",
    "        lst_Even_numbers = []\n",
    "        for i in lst_Even:\n",
    "            if not i%2:\n",
    "                lst_Even_numbers.append(i)\n",
    "            else:\n",
    "                pass\n",
    "        return lst_Even_numbers\n",
    "lst_Even = [0,1,3,5,7,9,11,13,15,17,19]\n",
    "check_even_lst([1,3,5,7,9,11,13,15,17,19])\n",
    "check_even_lst(lst_Even)"
   ]
  },
  {
   "cell_type": "code",
   "execution_count": null,
   "metadata": {},
   "outputs": [],
   "source": [
    "# can return tables(tuples)\n",
    "def tup_UtilizationCheck(tup_Emp_stats):\n",
    "        i_Tot_hours = 0\n",
    "        i_Util_hours = 0\n",
    "        f_utilization_max = 0.0\n",
    "        str_Name = \"\"\n",
    "        lst_Checklist = []\n",
    "        set_Checkset = set(tup_Emp_stats)  \n",
    "        #for name,tot_hours,util_hours in tup_Emp_stats:\n",
    "        for name,util_hours,tot_hours in tup_Emp_stats:\n",
    "            print(tup_Emp_stats)\n",
    "            lst_Checklist.append(name)\n",
    "            if (len(lst_Checklist) == len(set(lst_Checklist))):\n",
    "                if util_hours/tot_hours == f_utilization_max:\n",
    "                    str_Name = str_Name + \" & \" + name\n",
    "                    i_numemployees+=1\n",
    "                elif util_hours/tot_hours > f_utilization_max:\n",
    "                    f_utilization_max = util_hours/tot_hours\n",
    "                    str_Name = name\n",
    "                    i_numemployees = 1\n",
    "                else:\n",
    "                    pass\n",
    "            else:\n",
    "                return \"ERROR\"\n",
    "        return (i_numemployees, str_Name,f_utilization_max*100)\n",
    "#tup_UtilizationCheck([\"Emp 1\", 40,30],[\"Emp 2\", 45,30],[\"Emp 3\", 40,20],[\"Emp 4\", 40,30],[\"Emp 1\", 50,30])\n",
    "myset = [(\"Emp1\",10,10), (\"Emp2\",30,30)]\n",
    "mytable = []\n",
    "mynewtable = []\n",
    "mytable = tup_UtilizationCheck(myset)\n",
    "# print (\"Top \", {}, \"utilized employee(s) are \", {},\"Utilization % = \" ,{})tup_UtilizationCheck(myset)\n",
    "# can you do this without converting to a table?\n",
    "print (mytable)\n",
    "for i in mytable:\n",
    "    mynewtable.append(i)\n",
    "print (\"Top \", mynewtable[0], \"utilized employee(s) are \", mynewtable[1],\"Utilization % = \" ,mynewtable[2])\n"
   ]
  },
  {
   "cell_type": "code",
   "execution_count": null,
   "metadata": {},
   "outputs": [],
   "source": [
    "\n",
    "lst_Example = [0,1,2,3,4,5,6,7,8]\n",
    "shuffle(lst_Example)\n",
    "lst_Example\n"
   ]
  },
  {
   "cell_type": "code",
   "execution_count": null,
   "metadata": {},
   "outputs": [],
   "source": [
    "from random import shuffle\n",
    "def shuffle_list(mylist):\n",
    "        shuffle(mylist)\n",
    "        return mylist\n",
    "def player_guess():\n",
    "        guess = \"\"\n",
    "        while guess not in ['0','1','2','3']:\n",
    "            guess = input(\"Pick a number 0-3\")\n",
    "        return int(guess)\n",
    "def player_guess2(i_Min = 0, mylist = [0,1,2]): # request number and check range\n",
    "        guess = \"\"\n",
    "        i_Max = len(mylist)\n",
    "        badinput = True\n",
    "        while badinput:\n",
    "            while not guess.isnumeric():\n",
    "                guess = input(f\"Pick a number {i_Min} - {i_Max}\")\n",
    "            if (i_Min <= int(guess) <= i_Max):\n",
    "                badinput = False\n",
    "            else:\n",
    "                print (\"Bad choice try again\")\n",
    "                guess = ''\n",
    "        return int(guess)\n",
    "def check_guess(mylist,guess):\n",
    "    if ( isinstance(mylist[guess],str)):\n",
    "        if (len(mylist[guess]) > 0):\n",
    "            print (f\" Your guess was {guess} you are correct here is my list {mylist}\")\n",
    "        else:\n",
    "            print (f\"Wrong answer here is my list {mylist}\")\n",
    "    else:\n",
    "        print(\"Correct\")\n",
    "lst_Example = ['','','','d']"
   ]
  },
  {
   "cell_type": "code",
   "execution_count": null,
   "metadata": {},
   "outputs": [],
   "source": [
    "check_guess(shuffle_list(lst_Example),player_guess2(0,lst_Example))"
   ]
  },
  {
   "cell_type": "code",
   "execution_count": null,
   "metadata": {},
   "outputs": [],
   "source": [
    "# *args list of arguments with out declaring\n",
    "def myfunc(*args): # this will allow you to pass in \n",
    "                   # as many variables as you want passed in as a tuple\n",
    "        return sum(args)*.05\n",
    "myfunc(30,20,50,60,67,55)"
   ]
  },
  {
   "cell_type": "code",
   "execution_count": null,
   "metadata": {},
   "outputs": [],
   "source": [
    "# **kwargs passes in a dictionary\n",
    "def myfunc(**kwargs): # this will allow you to pass in \n",
    "                   # as many variables as you want passed in as a tuple\n",
    "        if 'fruit' in kwargs:\n",
    "            print (f\"My fruit of choice is {kwargs['fruit']}\")\n",
    "        else:\n",
    "            print (\"I didn't find my favorite fruit\")\n",
    "myfunc(fruit = 'apple', veggie = 'lettuce')"
   ]
  },
  {
   "cell_type": "code",
   "execution_count": null,
   "metadata": {},
   "outputs": [],
   "source": [
    "def myfunc(*args,**kwargs):\n",
    "        print (f\"I would like {args[0]} {kwargs['food']}\")\n",
    "myfunc(10,12,30,fruit = 'orange', food = 'eggs', animal = 'cat')"
   ]
  },
  {
   "cell_type": "code",
   "execution_count": null,
   "metadata": {},
   "outputs": [],
   "source": [
    "def myfunc(*args):\n",
    "        lst_mylist = []\n",
    "        for args in args:\n",
    "            if (not args%2):\n",
    "                lst_mylist.append(args)\n",
    "        return lst_mylist\n",
    "myfunc(0,2,4,5,6,7,8,9,11,13)"
   ]
  },
  {
   "cell_type": "markdown",
   "metadata": {},
   "source": [
    "# Lambda expressions, map and filters\n"
   ]
  },
  {
   "cell_type": "code",
   "execution_count": 1,
   "metadata": {},
   "outputs": [
    {
     "name": "stdout",
     "output_type": "stream",
     "text": [
      "1\n",
      "4\n",
      "9\n",
      "16\n",
      "25\n",
      "36\n",
      "49\n",
      "64\n",
      "81\n",
      "100\n",
      "[1, 4, 9, 16, 25, 36, 49, 64, 81, 100]\n",
      "['EVEN', 'E', 'S']\n",
      "[2, 4, 6, 8, 10]\n"
     ]
    }
   ],
   "source": [
    "# Map - create a map and convert to a list or itterate through to perform logic\n",
    "# filter - filters results based on a boolean result from a function\n",
    "# you can then create a list or itterate through like a map \n",
    "def square(num):\n",
    "        return num**2\n",
    "def splicer(mystring):\n",
    "    if (not len(mystring)%2):\n",
    "        return \"EVEN\"\n",
    "    else:\n",
    "        return mystring[0]\n",
    "def check_even(num):\n",
    "    return not num%2\n",
    "names = [\"Andy\", \"Eve\", \"Sally\"]\n",
    "my_nums = [1,2,3,4,5,6,7,8,9,10]\n",
    "for i in map (square,my_nums):\n",
    "    print(i)\n",
    "print(list(map(square,my_nums)))\n",
    "print(list(map(splicer,names)))\n",
    "print(list(filter(check_even,my_nums)))\n"
   ]
  },
  {
   "cell_type": "code",
   "execution_count": 5,
   "metadata": {},
   "outputs": [
    {
     "data": {
      "text/plain": [
       "[2, 4, 6, 8, 10]"
      ]
     },
     "execution_count": 5,
     "metadata": {},
     "output_type": "execute_result"
    }
   ],
   "source": [
    "#Lambda expression - single use function that are easily readable \n",
    "lambda num: num**2\n",
    "list(map(lambda num: num**2,my_nums))\n",
    "list(filter(lambda num: not num%2, my_nums))"
   ]
  },
  {
   "cell_type": "code",
   "execution_count": 8,
   "metadata": {},
   "outputs": [],
   "source": [
    "# Nested Statements and scope\n",
    "# LEGB Rule # L - Local names assigned within a function\n",
    "            # E - Enclosing function - names in a nested function\n",
    "            # G - Names assigned in the Main Program \n",
    "            # B - predefined names ex. True\n",
    "name = \"Global String\"\n",
    "def BaseFucntion():\n",
    "        global name \n",
    "        name = \"Local String\"# This updates the global variable\n",
    "        print(name)\n",
    "        def NestedFunction():\n",
    "            name = \"Nested String\" # This is only changed locally\n",
    "            print(name)\n",
    "        NestedFunction()\n",
    "# What benifit is there to nesting a function?\n",
    "# Functions can write to global varialbes if you define ex. global xx\n"
   ]
  },
  {
   "cell_type": "code",
   "execution_count": 9,
   "metadata": {},
   "outputs": [
    {
     "name": "stdout",
     "output_type": "stream",
     "text": [
      "Local String\n",
      "Nested String\n",
      "Local String\n"
     ]
    }
   ],
   "source": [
    "BaseFucntion()\n",
    "print(name)"
   ]
  },
  {
   "cell_type": "code",
   "execution_count": null,
   "metadata": {},
   "outputs": [],
   "source": [
    "# Methods and Functions homework see sepearate notebook"
   ]
  }
 ],
 "metadata": {
  "kernelspec": {
   "display_name": "Python 3",
   "language": "python",
   "name": "python3"
  },
  "language_info": {
   "codemirror_mode": {
    "name": "ipython",
    "version": 3
   },
   "file_extension": ".py",
   "mimetype": "text/x-python",
   "name": "python",
   "nbconvert_exporter": "python",
   "pygments_lexer": "ipython3",
   "version": "3.8.5"
  }
 },
 "nbformat": 4,
 "nbformat_minor": 4
}
