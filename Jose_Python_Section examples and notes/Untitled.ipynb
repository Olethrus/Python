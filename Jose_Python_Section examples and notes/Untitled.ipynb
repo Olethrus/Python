{
 "cells": [
  {
   "cell_type": "code",
   "execution_count": 3,
   "metadata": {},
   "outputs": [],
   "source": [
    "import random\n",
    "from random import shuffle\n",
    "t_suits = (\"Hearts\", \"Diamonds\", \"Spades\", \"Clubs\")\n",
    "t_ranks = (\"Ace\",\"Two\",\"Three\",\"Four\",\"Five\",\"Six\",\"Seven\",\"Eight\",\"Nine\",\"Ten\",\"Jack\",\"Queen\",\"King\")\n",
    "d_values = {\"Ace\":14,\"Two\":2,\"Three\":3,\"Four\":4, \"Five\":5, \"Six\":6, \"Seven\":7, \"Eight\":8, \"Nine\":9, \"Ten\":10, \"Jack\":11, \"Queen\":12, \"King\":13}\n",
    "i_cardcount = 52\n",
    "class CardClass(object):\n",
    "\t\"\"\"docstring for CardClass\"\"\"\n",
    "\tdef __init__(self, str_suit, str_rank):\n",
    "\t\ttry:\n",
    "\t\t\tself.str_suit = str(str_suit)\n",
    "\t\t\tself.str_rank = (str(str_rank)).capitalize()\n",
    "\t\t\tself.value = d_values[self.str_rank]\n",
    "\t\texcept:\n",
    "\t\t\tprint(\"There was an error determining the CardClass check supplied input\")\n",
    "\tdef __str__(self):\n",
    "\t\treturn f\"{self.str_rank} of {self.str_suit}\""
   ]
  },
  {
   "cell_type": "code",
   "execution_count": 4,
   "metadata": {},
   "outputs": [
    {
     "name": "stdout",
     "output_type": "stream",
     "text": [
      "('Hearts', 'Diamonds', 'Spades', 'Clubs')\n",
      "('Ace', 'Two', 'Three', 'Four', 'Five', 'Six', 'Seven', 'Eight', 'Nine', 'Ten', 'Jack', 'Queen', 'King')\n",
      "Hearts Ace\n",
      "Ace of Hearts\n",
      "Hearts Two\n",
      "Two of Hearts\n",
      "Hearts Three\n",
      "Three of Hearts\n",
      "Hearts Four\n",
      "Four of Hearts\n",
      "Hearts Five\n",
      "Five of Hearts\n",
      "Hearts Six\n",
      "Six of Hearts\n",
      "Hearts Seven\n",
      "Seven of Hearts\n",
      "Hearts Eight\n",
      "Eight of Hearts\n",
      "Hearts Nine\n",
      "Nine of Hearts\n",
      "Hearts Ten\n",
      "Ten of Hearts\n",
      "Hearts Jack\n",
      "Jack of Hearts\n",
      "Hearts Queen\n",
      "Queen of Hearts\n",
      "Hearts King\n",
      "King of Hearts\n",
      "Diamonds K\n"
     ]
    },
    {
     "ename": "KeyError",
     "evalue": "'K'",
     "output_type": "error",
     "traceback": [
      "\u001b[0;31m---------------------------------------------------------------------------\u001b[0m",
      "\u001b[0;31mKeyError\u001b[0m                                  Traceback (most recent call last)",
      "\u001b[0;32m<ipython-input-4-2081bc685047>\u001b[0m in \u001b[0;36m<module>\u001b[0;34m\u001b[0m\n\u001b[1;32m      5\u001b[0m     \u001b[0;32mfor\u001b[0m \u001b[0mt_ranks\u001b[0m \u001b[0;32min\u001b[0m \u001b[0mt_ranks\u001b[0m\u001b[0;34m:\u001b[0m\u001b[0;34m\u001b[0m\u001b[0;34m\u001b[0m\u001b[0m\n\u001b[1;32m      6\u001b[0m         \u001b[0mprint\u001b[0m \u001b[0;34m(\u001b[0m\u001b[0mt_suits\u001b[0m\u001b[0;34m,\u001b[0m \u001b[0mt_ranks\u001b[0m\u001b[0;34m)\u001b[0m\u001b[0;34m\u001b[0m\u001b[0;34m\u001b[0m\u001b[0m\n\u001b[0;32m----> 7\u001b[0;31m         \u001b[0mcreated_card\u001b[0m \u001b[0;34m=\u001b[0m \u001b[0mCardClass\u001b[0m\u001b[0;34m(\u001b[0m\u001b[0mt_suits\u001b[0m\u001b[0;34m,\u001b[0m\u001b[0mt_ranks\u001b[0m\u001b[0;34m)\u001b[0m\u001b[0;34m\u001b[0m\u001b[0;34m\u001b[0m\u001b[0m\n\u001b[0m\u001b[1;32m      8\u001b[0m         \u001b[0mprint\u001b[0m \u001b[0;34m(\u001b[0m\u001b[0mcreated_card\u001b[0m\u001b[0;34m)\u001b[0m\u001b[0;34m\u001b[0m\u001b[0;34m\u001b[0m\u001b[0m\n\u001b[1;32m      9\u001b[0m         \u001b[0mcards\u001b[0m\u001b[0;34m.\u001b[0m\u001b[0mappend\u001b[0m\u001b[0;34m(\u001b[0m\u001b[0mcreated_card\u001b[0m\u001b[0;34m)\u001b[0m\u001b[0;34m\u001b[0m\u001b[0;34m\u001b[0m\u001b[0m\n",
      "\u001b[0;32m<ipython-input-3-7b0db639e020>\u001b[0m in \u001b[0;36m__init__\u001b[0;34m(self, str_suit, str_rank)\u001b[0m\n\u001b[1;32m     10\u001b[0m                         \u001b[0mself\u001b[0m\u001b[0;34m.\u001b[0m\u001b[0mstr_suit\u001b[0m \u001b[0;34m=\u001b[0m \u001b[0mstr\u001b[0m\u001b[0;34m(\u001b[0m\u001b[0mstr_suit\u001b[0m\u001b[0;34m)\u001b[0m\u001b[0;34m\u001b[0m\u001b[0;34m\u001b[0m\u001b[0m\n\u001b[1;32m     11\u001b[0m                         \u001b[0mself\u001b[0m\u001b[0;34m.\u001b[0m\u001b[0mstr_rank\u001b[0m \u001b[0;34m=\u001b[0m \u001b[0;34m(\u001b[0m\u001b[0mstr\u001b[0m\u001b[0;34m(\u001b[0m\u001b[0mstr_rank\u001b[0m\u001b[0;34m)\u001b[0m\u001b[0;34m)\u001b[0m\u001b[0;34m.\u001b[0m\u001b[0mcapitalize\u001b[0m\u001b[0;34m(\u001b[0m\u001b[0;34m)\u001b[0m\u001b[0;34m\u001b[0m\u001b[0;34m\u001b[0m\u001b[0m\n\u001b[0;32m---> 12\u001b[0;31m                         \u001b[0mself\u001b[0m\u001b[0;34m.\u001b[0m\u001b[0mvalue\u001b[0m \u001b[0;34m=\u001b[0m \u001b[0md_values\u001b[0m\u001b[0;34m[\u001b[0m\u001b[0mself\u001b[0m\u001b[0;34m.\u001b[0m\u001b[0mstr_rank\u001b[0m\u001b[0;34m]\u001b[0m\u001b[0;34m\u001b[0m\u001b[0;34m\u001b[0m\u001b[0m\n\u001b[0m\u001b[1;32m     13\u001b[0m                 \u001b[0;31m#except:\u001b[0m\u001b[0;34m\u001b[0m\u001b[0;34m\u001b[0m\u001b[0;34m\u001b[0m\u001b[0m\n\u001b[1;32m     14\u001b[0m                 \u001b[0;31m#       print(\"There was an error determining the CardClass check supplied input\")\u001b[0m\u001b[0;34m\u001b[0m\u001b[0;34m\u001b[0m\u001b[0;34m\u001b[0m\u001b[0m\n",
      "\u001b[0;31mKeyError\u001b[0m: 'K'"
     ]
    }
   ],
   "source": [
    "cards = []\n",
    "print(t_suits)\n",
    "print(t_ranks)\n",
    "for t_suits in t_suits:\n",
    "    for t_ranks in t_ranks:\n",
    "        print (t_suits, t_ranks)\n",
    "        created_card = CardClass(t_suits,t_ranks)\n",
    "        print (created_card)\n",
    "        cards.append(created_card)"
   ]
  },
  {
   "cell_type": "code",
   "execution_count": null,
   "metadata": {},
   "outputs": [],
   "source": []
  },
  {
   "cell_type": "code",
   "execution_count": null,
   "metadata": {},
   "outputs": [],
   "source": []
  }
 ],
 "metadata": {
  "kernelspec": {
   "display_name": "Python 3",
   "language": "python",
   "name": "python3"
  },
  "language_info": {
   "codemirror_mode": {
    "name": "ipython",
    "version": 3
   },
   "file_extension": ".py",
   "mimetype": "text/x-python",
   "name": "python",
   "nbconvert_exporter": "python",
   "pygments_lexer": "ipython3",
   "version": "3.8.5"
  }
 },
 "nbformat": 4,
 "nbformat_minor": 4
}
