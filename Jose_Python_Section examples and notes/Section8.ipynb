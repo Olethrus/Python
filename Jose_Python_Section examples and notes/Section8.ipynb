{
 "cells": [
  {
   "cell_type": "markdown",
   "metadata": {},
   "source": [
    "# Classm & Methods"
   ]
  },
  {
   "cell_type": "code",
   "execution_count": null,
   "metadata": {},
   "outputs": [],
   "source": [
    "class NameOfClass():# This is creatinga a custom class\n",
    "    def __init__ (self,param1,param2): \n",
    "        self.param1 = param1 # This is an attribute\n",
    "        self.param2 = param2\n",
    "    def some_method(self):# This is a method since it is a function inside of a class\n",
    "        #Perform some action\n",
    "        print(self.param1)\n",
    "        '''\n",
    "        Body of the method here\n",
    "        '''"
   ]
  },
  {
   "cell_type": "code",
   "execution_count": null,
   "metadata": {},
   "outputs": [],
   "source": [
    "class Dog():\n",
    "    # Global class paramter assinged for all instances\n",
    "    # Can reference by Dog.XX or self.XX I prefer Dog.XX to tell the diff between init variables and global\n",
    "    species = 'mamal'\n",
    "    # initilizes the class and defines the paramater\n",
    "    # can predefine variables with x=x\n",
    "    def __init__(self, breed = \"None\",name = \"None\",height=65,weight=100):\n",
    "        #Expects String\n",
    "        self.breed = str(breed)\n",
    "        self.name = str(name).capitalize()\n",
    "        #Expects Real\n",
    "        self.height = float(height)\n",
    "        self.weight = float(weight)\n",
    "    #This is a method a operation or action\n",
    "    def bark(self,num):\n",
    "        print(f\"wolf my name is {self.name} and the number is {num} and i am a {Dog.species}\" )\n"
   ]
  },
  {
   "cell_type": "code",
   "execution_count": null,
   "metadata": {},
   "outputs": [],
   "source": [
    "mydog = Dog(\"Breed\",\"hula\" ,130)\n",
    "#mydog = Dog()"
   ]
  },
  {
   "cell_type": "code",
   "execution_count": null,
   "metadata": {},
   "outputs": [],
   "source": [
    "mydog.species"
   ]
  },
  {
   "cell_type": "code",
   "execution_count": null,
   "metadata": {},
   "outputs": [],
   "source": [
    "mydog.bark(15)\n"
   ]
  },
  {
   "cell_type": "markdown",
   "metadata": {},
   "source": [
    "# Inheritance and Polymorphism"
   ]
  },
  {
   "cell_type": "code",
   "execution_count": null,
   "metadata": {},
   "outputs": [],
   "source": [
    "class Animal(): # Main class or parent class\n",
    "    def __init__(self):\n",
    "        print(\"Animal Created\")\n",
    "    def who_am_i(self):\n",
    "        print (\"I am an animal\")\n",
    "    def eat(self):\n",
    "        print (\"I am eating\")\n",
    "#myanimal = Animal()\n",
    "class Sub_Animal(Animal): # Sub class or child class and inherits functions from Partent but can fork as desired\n",
    "    def __init__(self):\n",
    "        Animal.__init__(self)\n",
    "        print (\"Dog Created\")\n",
    "    def funct(self):\n",
    "        print (\"Deviation\")\n",
    "    def who_am_i(self):\n",
    "        print (\"Method redefined\")\n",
    "dog = Sub_Animal()\n",
    "dog2 = Animal()"
   ]
  },
  {
   "cell_type": "code",
   "execution_count": null,
   "metadata": {},
   "outputs": [],
   "source": [
    "dog.who_am_i()\n",
    "dog.funct()\n",
    "dog2.who_am_i()"
   ]
  },
  {
   "cell_type": "markdown",
   "metadata": {},
   "source": [
    "# Polymorphism"
   ]
  },
  {
   "cell_type": "code",
   "execution_count": null,
   "metadata": {},
   "outputs": [],
   "source": [
    "class Dog():\n",
    "    def __init__(self,name):\n",
    "        self.name = str(name)\n",
    "    \n",
    "    def speak(self):\n",
    "        return self.name + \" says woof!!\"\n",
    "class Cat():\n",
    "    def __init__(self,name):\n",
    "        self.name = str(name)\n",
    "    \n",
    "    def speak(self):\n",
    "        return self.name + \" says meow!!\"\n",
    "Hula = Dog(\"Hula\")\n",
    "Duke = Cat(\"Duke\")\n"
   ]
  },
  {
   "cell_type": "code",
   "execution_count": null,
   "metadata": {},
   "outputs": [],
   "source": [
    "for i in [Hula,Duke]:\n",
    "    print (type(i))\n",
    "    print (i.speak())"
   ]
  },
  {
   "cell_type": "code",
   "execution_count": null,
   "metadata": {},
   "outputs": [],
   "source": [
    "def pet_speak(pet):# used if two classes have the same method that \n",
    "                # way you can just pass in the class and make reusable code not one for dog one for cat\n",
    "    return pet.speak()\n",
    "print(pet_speak(Duke))"
   ]
  },
  {
   "cell_type": "markdown",
   "metadata": {},
   "source": [
    "# Abstract Class designed be used as a base class and not actually be called ex. Animal class as Parent to dog, cat etc\n"
   ]
  },
  {
   "cell_type": "code",
   "execution_count": null,
   "metadata": {},
   "outputs": [],
   "source": [
    "class Animal(): # Main class or parent class. This would be more of a gaming example like a base creature\n",
    "                # PC related example would be a Class for open so you can use it for excel,csv,etc\n",
    "    def __init__(self):\n",
    "        print(\"Animal Created\")\n",
    "    def who_am_i(self):\n",
    "        raise NotImplementedError (\"Subclass must impliment this method this class is a base class\")"
   ]
  },
  {
   "cell_type": "code",
   "execution_count": null,
   "metadata": {},
   "outputs": [],
   "source": [
    "class Dog(Aniamal):\n",
    "    def speak(self):\n",
    "        return f\"WOOF my name is {self.name}\"\n",
    "myanimal = Dog(\"Hula\")\n"
   ]
  },
  {
   "cell_type": "code",
   "execution_count": null,
   "metadata": {},
   "outputs": [],
   "source": [
    "print(myanimal.speak())"
   ]
  },
  {
   "cell_type": "markdown",
   "metadata": {},
   "source": [
    "\n",
    "# Magic or Dunder methods ex. using build in python functions like len and print on your custom class\n"
   ]
  },
  {
   "cell_type": "code",
   "execution_count": 8,
   "metadata": {},
   "outputs": [
    {
     "name": "stdout",
     "output_type": "stream",
     "text": [
      "The book is called Python Rocks and it was written by ME\n",
      "An object has been deleted\n"
     ]
    }
   ],
   "source": [
    "class Book():\n",
    "    def __init__(self,title,author,pages):\n",
    "        self.title = title\n",
    "        self.author = author\n",
    "        self.pages = pages\n",
    "    def __str__(self):\n",
    "        return f\"The book is called {self.title} and it was written by {self.author}\" \n",
    "    def __len__(self):\n",
    "        return {self.pages}\n",
    "    def __del__(self):\n",
    "        print (\"An object has been deleted\")\n",
    "mybook = Book(\"Python Rocks\", \"ME\", 150)\n",
    "print(mybook)\n",
    "del(mybook) # deletes a variable from memory"
   ]
  }
 ],
 "metadata": {
  "kernelspec": {
   "display_name": "Python 3",
   "language": "python",
   "name": "python3"
  },
  "language_info": {
   "codemirror_mode": {
    "name": "ipython",
    "version": 3
   },
   "file_extension": ".py",
   "mimetype": "text/x-python",
   "name": "python",
   "nbconvert_exporter": "python",
   "pygments_lexer": "ipython3",
   "version": "3.8.5"
  }
 },
 "nbformat": 4,
 "nbformat_minor": 4
}
