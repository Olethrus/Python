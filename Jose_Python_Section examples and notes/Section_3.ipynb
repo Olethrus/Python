{
 "cells": [
  {
   "cell_type": "markdown",
   "metadata": {},
   "source": [
    "# This is the start of math\n"
   ]
  },
  {
   "cell_type": "code",
   "execution_count": null,
   "metadata": {},
   "outputs": [],
   "source": [
    "7 % 3 # This is the mod function\n",
    "2**3 # This is to the power of x"
   ]
  },
  {
   "cell_type": "code",
   "execution_count": null,
   "metadata": {},
   "outputs": [],
   "source": [
    "i = 10\n",
    "j = 33\n",
    "k = 0 \n",
    "k = j/i # since we are dividing the two variables k is now redefined as an int\n",
    "print (int(k)) # This will print the variable out as an int can do this with any data types\n",
    "print (k)\n",
    "print  (str(k)) # Was expecting ascii output but this output the coresponding number in string format\n",
    "type(i) # this can be used to verify user input type before moving on that the correct format was used"
   ]
  },
  {
   "cell_type": "markdown",
   "metadata": {},
   "source": [
    "# This is the start of strings"
   ]
  },
  {
   "cell_type": "code",
   "execution_count": null,
   "metadata": {},
   "outputs": [],
   "source": [
    "strName = \"First Name\"\n",
    "print(strName[0])        # Grab the first letter 0,1,...\n",
    "print(strName[-1])       # Grab the last letter -1,-2,...0\n",
    "print(strName[0:3:1])    # Grab char 0-2 [Start:Stop:Step size] Stop size does not include that position \n",
    "                         #the start positiong does\n",
    "print(strName[-1:-3:-1]) # Reverse string grabs the last 2 letters of the string\n",
    "print(strName [3:])      # Stats at 3 and goes to end of string\n",
    "print(strName [3::2])    # Stats at 3 and goes to end of string by a count of 2\n",
    "print (strName [:10])    # Grabs all chars up to 10 by a step of 1\n",
    "print (strName [:10:2])  # Grabs all chars up to 10 by a step of 2\n",
    "print (strName[::-1])    # Reverse the string\n",
    "print (\"fdsadas!\"[-1])   # If printing a hard coded string you can refrence a location like you can above\n",
    "strName = \"Second \" + strName[6:]   # This replaces First with second \n",
    "print(strName)                      # output string for verification\n",
    "strName = (strName[0:2] + \" \") * 10 # Just like order of operations will can add and multiply strings\n",
    "print (strName)\n",
    "strName = 2+3                       # This will add the numbers and redeclare the variable as a int\n",
    "print (strName)\n",
    "strName = '2' + '3'  + \"Hello \"     # This will concat the strings\n",
    "print (strName)\n",
    "strName = strName.upper()  # var.XX is a predefined function of the datatype that can be used to perform functions\n",
    "print(strName)"
   ]
  },
  {
   "cell_type": "code",
   "execution_count": null,
   "metadata": {},
   "outputs": [],
   "source": [
    "strName = \"fdsafds,fdsafdas,fdas,fads,fdasfdas,\"\n",
    "print(strName.split(\",\"))\n",
    "strName= 'This is a {0} string {0}'\n",
    "print(strName.format(\"100\")) # This will replace the {} in a string with a list by default {} \n",
    "                           # is x +1 otherwise you can hardcode this format into your string ex {0}{1}...\n",
    "                           # Can make a table key as well ex(a = alpha, b = beta, c = charlie) {a}{b}{c}...\n",
    "i = 7/834\n",
    "print(\"The restult is {0:0.5f}\".format(i)) # This will trunc your result. {<param index>:<width>.<precision>f}\n",
    "strName = \"Someone\"\n",
    "print(f'{strName} is the their name. The result is {i}')\n",
    "print(\"How is your day going %s\"%strName) # Ths %s denotes a string and the %strName tells you input strName value\n",
    "                                          # Look up and show example of indexed %s0 %s1 .."
   ]
  },
  {
   "cell_type": "markdown",
   "metadata": {},
   "source": [
    "# ESCAPE CLAUSES"
   ]
  },
  {
   "cell_type": "code",
   "execution_count": null,
   "metadata": {},
   "outputs": [],
   "source": [
    "strName = \"This is a new line\\nThis is a tab\\tThis is simlar to C++\"\n",
    "print(strName)"
   ]
  },
  {
   "cell_type": "markdown",
   "metadata": {},
   "source": [
    "# This is the start of lists"
   ]
  },
  {
   "cell_type": "code",
   "execution_count": null,
   "metadata": {},
   "outputs": [],
   "source": [
    "lstMylist =[\"1\",\"100\",\"100.0\",\"String\"] # A list can hold multiple variables together and know what \n",
    "                                        # variable they are\n",
    "lstMysecondlist = [\"This\",\"Then\"]       # All the split and parse functions for string work on lists the one \n",
    "                                        # difference is you can rearrange a list where you can't redefine a string\n",
    "lstMysecondlist.append ('That')\n",
    "print(lstMysecondlist)\n",
    "lstMysecondlist.pop(1)                  # pop will remove one item from the list you \n",
    "                                        # can store this in a variable if you want\n",
    "print(lstMysecondlist)\n",
    "lstMysecondlist.sort()                  # Sorts the list in alpha or numeric order. Does this in place and see \n",
    "                                        # the results unlike the string where you had to assign the result\n",
    "                                        # Tables are nested lists ex lstMylist[\"Two\",\"Three\"],[\"Four\",\"Five\"]\n",
    "lstMylist = [\"Two\",\"Three\"],[\"Four\",\"Five\"]\n",
    "print (lstMylist[0][1])"
   ]
  },
  {
   "cell_type": "code",
   "execution_count": 20,
   "metadata": {},
   "outputs": [
    {
     "name": "stdout",
     "output_type": "stream",
     "text": [
      "Alpha\n",
      "ALPHA\n",
      "dict_items([(1, 'Alpha2'), (2, 'Beta'), (3, 'Charlie')])\n",
      "dict_keys([1, 2, 3])\n",
      "dict_values(['Alpha2', 'Beta', 'Charlie'])\n",
      "{1: 'Alpha2', 2: 'Beta'}\n"
     ]
    }
   ],
   "source": [
    "dictMy_dict = {'key1':'Alpha' , \"key2\":\"Beta\"} # They can hold list, string,nested dictionary\n",
    "                                               # etc they run faster than list but can't be split, sorted\n",
    "dictMy_dict2 = {1:\"Alpha\", 2: \"Beta\"}\n",
    "print(dictMy_dict[\"key1\"])\n",
    "print(dictMy_dict2[1].upper())\n",
    "dictMy_dict[3] = \"Charlie\"                    # This is used to append a dictionary and add to it\n",
    "dictMy_dict[1] = \"Alpha2\"                     # This is used to update a key in the existing dictionary\n",
    "print(dictMy_dict.items())                    # returns the key and value pairs\n",
    "print(dictMy_dict.keys())                     # returns the keys\n",
    "print(dictMy_dict.values())                   # returns the values\n",
    "dictMy_dict2.pop(\"key 3\")                            # removes and object based on its key\n",
    "print(dictMy_dict2)"
   ]
  },
  {
   "cell_type": "code",
   "execution_count": 22,
   "metadata": {},
   "outputs": [],
   "source": [
    "# do research on ordereddict\n",
    "\n"
   ]
  },
  {
   "cell_type": "markdown",
   "metadata": {},
   "source": [
    "# This is th start of tuples"
   ]
  },
  {
   "cell_type": "code",
   "execution_count": 29,
   "metadata": {},
   "outputs": [
    {
     "data": {
      "text/plain": [
       "('c', 2, 3, 1, 3, 4)"
      ]
     },
     "execution_count": 29,
     "metadata": {},
     "output_type": "execute_result"
    }
   ],
   "source": [
    "strA = \"A\"\n",
    "tupT = (strA,2,3,1,3,4,)\n",
    "tupT.index(1)         # Fist index that it finds the number 1\n",
    "tupT.count(3)         # How many ones are in the tuple\n",
    "#tuples are immutable and are good for hard coded values since they can't be changed. Once initilized the variable\n",
    "# is locked in even though you change strA to a b it still outputs \"A\"\n",
    "strA = \"b\"\n",
    "tupT\n"
   ]
  },
  {
   "cell_type": "markdown",
   "metadata": {},
   "source": [
    "# This is the start of sets"
   ]
  },
  {
   "cell_type": "code",
   "execution_count": 1,
   "metadata": {},
   "outputs": [
    {
     "data": {
      "text/plain": [
       "{1, 2, 3, 4}"
      ]
     },
     "execution_count": 1,
     "metadata": {},
     "output_type": "execute_result"
    }
   ],
   "source": [
    "lst_Mylist = [1,1,1,1,1,3,3,3,3,2,2,2,2,1,4]\n",
    "set(lst_Mylist) # This will remove repeated values and store in a set"
   ]
  },
  {
   "cell_type": "code",
   "execution_count": 10,
   "metadata": {},
   "outputs": [
    {
     "name": "stdout",
     "output_type": "stream",
     "text": [
      "{1, 2, 3, 4, 8}\n"
     ]
    },
    {
     "data": {
      "text/plain": [
       "5"
      ]
     },
     "execution_count": 10,
     "metadata": {},
     "output_type": "execute_result"
    }
   ],
   "source": [
    "set_Newlist = set(lst_Mylist)            # not ordered\n",
    "set_Newlist.add(8)\n",
    "print(set_Newlist)\n",
    "len(set_Newlist)"
   ]
  },
  {
   "cell_type": "markdown",
   "metadata": {},
   "source": [
    "# Boolean and None data type"
   ]
  },
  {
   "cell_type": "code",
   "execution_count": 11,
   "metadata": {},
   "outputs": [],
   "source": [
    "#True False # true and false must have a capital T/F python is case sensitive for terms\n",
    "# to declare a data type to be used later in the code use None for a placeholder no quotes capital N ex. A = None"
   ]
  },
  {
   "cell_type": "markdown",
   "metadata": {},
   "source": [
    "# File modifications"
   ]
  },
  {
   "cell_type": "code",
   "execution_count": 9,
   "metadata": {},
   "outputs": [],
   "source": [
    "myfile = open('Section3.txt')\n",
    "# for windows C:\\\\Path1\\\\Path2\\\\file.xxx\n",
    "# for linux \"/path1/path2/file.xxx\"\n",
    "myfile.seek(0)                       # This sets the cursor\n",
    "myfile.read()       # This reads the whole file from the begining\n",
    "myfile.seek(0)\n",
    "myfile.readlines ()  # This reads each line\n",
    "myfile.close()     # must close a file after opening"
   ]
  },
  {
   "cell_type": "code",
   "execution_count": 24,
   "metadata": {},
   "outputs": [
    {
     "data": {
      "text/plain": [
       "[]"
      ]
     },
     "execution_count": 24,
     "metadata": {},
     "output_type": "execute_result"
    }
   ],
   "source": [
    "with open ('Section3.txt',mode ='r') as section3_temp: # with this method you don't need to worry about closing the file or\n",
    "                                            # setting the seek to 0 unless you want to start at a specific locaiton\n",
    "                                            # Shift + Tab is a help window\n",
    "                                            # r - read only, w - write only create file if one does not exist\n",
    "                                            # a - append (add to end of file)\n",
    "                                            # r+ - read and write\n",
    "                                            # w + write and read can overwrite file or will \n",
    "                                            # create a new one if does not exist\n",
    "    contents = section3_temp.readlines()\n",
    "contents"
   ]
  },
  {
   "cell_type": "code",
   "execution_count": 35,
   "metadata": {},
   "outputs": [
    {
     "data": {
      "text/plain": [
       "'Hello World'"
      ]
     },
     "execution_count": 35,
     "metadata": {},
     "output_type": "execute_result"
    }
   ],
   "source": [
    "myfile = open('test.txt','w+')\n",
    "myfile.seek(0)\n",
    "myfile.writelines('Hello World')\n",
    "myfile.seek(0)\n",
    "contents = myfile.read()\n",
    "myfile.close\n",
    "contents"
   ]
  },
  {
   "cell_type": "code",
   "execution_count": null,
   "metadata": {},
   "outputs": [],
   "source": []
  }
 ],
 "metadata": {
  "kernelspec": {
   "display_name": "Python 3",
   "language": "python",
   "name": "python3"
  },
  "language_info": {
   "codemirror_mode": {
    "name": "ipython",
    "version": 3
   },
   "file_extension": ".py",
   "mimetype": "text/x-python",
   "name": "python",
   "nbconvert_exporter": "python",
   "pygments_lexer": "ipython3",
   "version": "3.8.5"
  }
 },
 "nbformat": 4,
 "nbformat_minor": 4
}
