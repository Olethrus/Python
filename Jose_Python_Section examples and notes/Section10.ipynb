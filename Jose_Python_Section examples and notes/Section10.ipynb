{
 "cells": [
  {
   "cell_type": "code",
   "execution_count": 1,
   "metadata": {},
   "outputs": [],
   "source": [
    "b_Error = True\n",
    "def add (num1,num2):\n",
    "    global b_Error \n",
    "    b_Error = False\n",
    "    try:\n",
    "        result=  int(num1) + int(num2)\n",
    "    except:\n",
    "        b_Error = True\n",
    "        print(f'Error you did not supply two numbers try again')\n",
    "        \n",
    "    else:\n",
    "        print (f\"Success result is {result}\")\n",
    "    finally:\n",
    "        print (\"One loop has executed\")"
   ]
  },
  {
   "cell_type": "code",
   "execution_count": 31,
   "metadata": {
    "scrolled": true
   },
   "outputs": [
    {
     "name": "stdout",
     "output_type": "stream",
     "text": [
      "What is number 1?\n",
      "1\n",
      "What is number 2?\n",
      "a\n",
      "1 , a\n",
      "Error you did not supply two numbers try again\n",
      "One loop has executed\n",
      "What is number 1?\n",
      "1\n",
      "What is number 2?\n",
      "1\n",
      "1 , 1\n",
      "Success result is 2\n",
      "One loop has executed\n"
     ]
    }
   ],
   "source": [
    "b_Error = True\n",
    "while (b_Error):\n",
    "    i_num1 = input (\"What is number 1?\\n\")\n",
    "    i_num2 = input (\"What is number 2?\\n\")\n",
    "    add(i_num1,i_num2)"
   ]
  },
  {
   "cell_type": "code",
   "execution_count": 33,
   "metadata": {},
   "outputs": [
    {
     "name": "stdout",
     "output_type": "stream",
     "text": [
      "There was an OS Error\n",
      "I always run\n"
     ]
    }
   ],
   "source": [
    "#Used for testing for specific errorrs\n",
    "try:\n",
    "    f = open('testfile','r')\n",
    "    f.write (\"Write a test line\")\n",
    "except TypeError:\n",
    "    print (\"There was a type error\")\n",
    "except OSError:\n",
    "    print(\"There was an OS Error\")\n",
    "finally:\n",
    "    print(\"I always run\")"
   ]
  },
  {
   "cell_type": "code",
   "execution_count": 39,
   "metadata": {},
   "outputs": [
    {
     "name": "stdout",
     "output_type": "stream",
     "text": [
      "What is number 1?\n",
      "a\n",
      "Error you did not supply two numbers try again\n",
      "1 loop has executed\n",
      "What is number 1?\n",
      "1\n",
      "What is number 2?\n",
      "a\n",
      "Error you did not supply two numbers try again\n",
      "2 loop has executed\n",
      "What is number 1?\n",
      "1\n",
      "What is number 2?\n",
      "5\n",
      "Success result is 6\n",
      "3 loop has executed\n"
     ]
    }
   ],
   "source": [
    "i = 0\n",
    "\n",
    "while True:\n",
    "    try:\n",
    "        i_num1 = int(input (\"What is number 1?\\n\"))\n",
    "        i_num2 = int(input (\"What is number 2?\\n\"))\n",
    "    except:\n",
    "        print(f'Error you did not supply two numbers try again')\n",
    "        continue\n",
    "    else:\n",
    "        result = i_num1 + i_num2\n",
    "        print (f\"Success result is {result}\")\n",
    "        break\n",
    "    finally:\n",
    "        i += 1\n",
    "        print (f\"{i} loop has executed\")"
   ]
  },
  {
   "cell_type": "markdown",
   "metadata": {},
   "source": [
    "# Pylint or unittest - used to test code and check desired outputs are being recieved\n",
    "pylint myexample.py -r y"
   ]
  },
  {
   "cell_type": "code",
   "execution_count": null,
   "metadata": {},
   "outputs": [],
   "source": []
  }
 ],
 "metadata": {
  "kernelspec": {
   "display_name": "Python 3",
   "language": "python",
   "name": "python3"
  },
  "language_info": {
   "codemirror_mode": {
    "name": "ipython",
    "version": 3
   },
   "file_extension": ".py",
   "mimetype": "text/x-python",
   "name": "python",
   "nbconvert_exporter": "python",
   "pygments_lexer": "ipython3",
   "version": "3.8.5"
  }
 },
 "nbformat": 4,
 "nbformat_minor": 4
}
