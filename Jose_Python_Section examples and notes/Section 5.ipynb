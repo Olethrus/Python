{
 "cells": [
  {
   "cell_type": "markdown",
   "metadata": {},
   "source": [
    "# Loops\n",
    "Python is very case sensitive and arrangement sensitive\n",
    "All whitespaces must match and : must be after each statement ex.\n",
    "if(...):\n",
    "while(..):\n",
    "for _ in range(a,b,c):\n",
    "for i in <tag> loops through a array or string good for parsing\n",
    "    <condition here>"
   ]
  },
  {
   "cell_type": "code",
   "execution_count": null,
   "metadata": {},
   "outputs": [],
   "source": [
    "if (1 == 2):\n",
    "    a = 3\n",
    "elif (3 == 2):\n",
    "    a = 6\n",
    "else:\n",
    "    a = 5\n",
    "a"
   ]
  },
  {
   "cell_type": "code",
   "execution_count": null,
   "metadata": {},
   "outputs": [],
   "source": [
    "list_Mylist = [0,1,1,2,3,'found']\n",
    "for i in list_Mylist:\n",
    "    print(i) # i in this case is the array value not the loop counter"
   ]
  },
  {
   "cell_type": "code",
   "execution_count": null,
   "metadata": {},
   "outputs": [],
   "source": [
    "list_Mylist = [10,11,111,12,13,'found']\n",
    "for i in range(6):\n",
    "    print(i ,\" = \", list_Mylist[i]) # i in this case is the loop counter\n",
    "    if(i == 3):\n",
    "        break # This exits the for loop\n",
    "print (i, \"End of for\") # since the indentation is outside the loop it\n",
    "                        # only runs once"
   ]
  },
  {
   "cell_type": "code",
   "execution_count": 95,
   "metadata": {},
   "outputs": [
    {
     "name": "stdout",
     "output_type": "stream",
     "text": [
      "0\n",
      "a\n",
      "2\n",
      "b\n",
      "4\n",
      "c\n",
      "6\n",
      "d\n"
     ]
    }
   ],
   "source": [
    "list_Mylist = [[0,1,'a'],[2,3,'b'],[4,5,'c'],[6,7,'d']] \n",
    "for a,d,b in list_Mylist:# can use with tuples as well usefule to parse\n",
    "                        # out a set of variables ex columns in a csv\n",
    "    print (a)           # Reference a only if you use for i instead of\n",
    "                        # [a,b] you will get each table seperately\n",
    "    print (b)"
   ]
  },
  {
   "cell_type": "code",
   "execution_count": null,
   "metadata": {},
   "outputs": [],
   "source": [
    "for _ in range(1,6,2): #(Start,Stop,Step size)\n",
    "    print(\"This is a test\")\n",
    "    "
   ]
  },
  {
   "cell_type": "code",
   "execution_count": null,
   "metadata": {},
   "outputs": [],
   "source": [
    "d = {'k1':6,'k2':8,'k3':9}\n",
    "for i in d:\n",
    "    print(i)             #prints key only\n",
    "for i in d.items():      # prints key, value can use unpack method\n",
    "                         # like above example\n",
    "    print(i)\n",
    "for a,b in d.items():\n",
    "    print(a)\n",
    "    print(b)"
   ]
  },
  {
   "cell_type": "code",
   "execution_count": null,
   "metadata": {},
   "outputs": [],
   "source": [
    "i = 7\n",
    "while i < 5:\n",
    "    print(i)\n",
    "    i += 1\n",
    "else:\n",
    "    print(\"End of loop has been reached and no escape caluses\")"
   ]
  },
  {
   "cell_type": "code",
   "execution_count": null,
   "metadata": {},
   "outputs": [],
   "source": [
    "# pass - used to end a statment and do nothing\n",
    "if (1 == 3):\n",
    "    print('a')\n",
    "else:\n",
    "    pass\n"
   ]
  },
  {
   "cell_type": "code",
   "execution_count": null,
   "metadata": {},
   "outputs": [],
   "source": [
    "#continue - used to skip a step\n",
    "for i in range(5):\n",
    "    if (i == 3):\n",
    "        continue\n",
    "    else:\n",
    "        pass\n",
    "    print(i)"
   ]
  },
  {
   "cell_type": "code",
   "execution_count": null,
   "metadata": {},
   "outputs": [],
   "source": [
    "#Break used to exit a loop\n",
    "i = 0\n",
    "while i <8:\n",
    "    if (i == 4):\n",
    "        break\n",
    "    else:\n",
    "        pass\n",
    "    print(i)\n",
    "    i += 1\n",
    "    "
   ]
  },
  {
   "cell_type": "code",
   "execution_count": null,
   "metadata": {},
   "outputs": [],
   "source": [
    "#Enumerate - can be used to parse a string or array out into tuples\n",
    "word = ['a','b','c','d','e']\n",
    "for a,b in enumerate(word):\n",
    "    print(a,\":\",b,\"\\n\")\n",
    "word = 'edcba'\n",
    "for a,b in enumerate(word):\n",
    "    print(a,\":\",b,\"\\n\")"
   ]
  },
  {
   "cell_type": "code",
   "execution_count": 11,
   "metadata": {},
   "outputs": [
    {
     "name": "stdout",
     "output_type": "stream",
     "text": [
      "0:  1  1: a 3:  0\n",
      "0:  2  1: b 3:  0\n",
      "0:  3  1: c 3:  0\n",
      "0:  4  1: d 3:  0\n",
      "0:  5  1: e 3:  0\n",
      "0:  6  1: f 3:  0\n",
      "(1, 'a', 0)\n",
      "(2, 'b', 0)\n",
      "(3, 'c', 0)\n",
      "(4, 'd', 0)\n",
      "(5, 'e', 0)\n",
      "(6, 'f', 0)\n"
     ]
    }
   ],
   "source": [
    "mylist1=[1,2,3,4,5,6] \n",
    "mylist2=['a','b','c','d','e','f']\n",
    "mylist3 = [0,0,0,0,0,0,0,0,0,0,0,0,0,0]\n",
    "for i,j,k in zip(mylist1,mylist2,mylist3): #will end based on shortest list\n",
    "    print(\"0: \", i,\" 1:\",j,\"3: \",k)\n",
    "for i in zip(mylist1,mylist2,mylist3): #will end based on shortest list\n",
    "    print(i)"
   ]
  },
  {
   "cell_type": "code",
   "execution_count": 97,
   "metadata": {},
   "outputs": [
    {
     "data": {
      "text/plain": [
       "True"
      ]
     },
     "execution_count": 97,
     "metadata": {},
     "output_type": "execute_result"
    }
   ],
   "source": [
    "'ra' in 'x-ray' # true since x is in the word\n",
    "#'mykey' in {'mykey':345} # True since mykey is a key\n",
    "#d = {'mykey':345} \n",
    "#345 in d.values() # True since 345 is a value\n",
    "#345 in d.keys() # False since 345 is not a key\n"
   ]
  },
  {
   "cell_type": "code",
   "execution_count": 29,
   "metadata": {},
   "outputs": [
    {
     "name": "stdout",
     "output_type": "stream",
     "text": [
      "0\n",
      "8\n"
     ]
    }
   ],
   "source": [
    "lst_Mylist = [0,1,2,3,4,5,6,8]\n",
    "print (min(lst_Mylist))\n",
    "print (max(lst_Mylist))\n"
   ]
  },
  {
   "cell_type": "code",
   "execution_count": 42,
   "metadata": {},
   "outputs": [
    {
     "name": "stdout",
     "output_type": "stream",
     "text": [
      "[0, 1, 5, 6, 6, 7, 8, 45, 97]\n",
      "[6, 45, 0, 8, 97, 1, 5, 7, 6]\n"
     ]
    }
   ],
   "source": [
    "from random import shuffle\n",
    "lst_Mylist = [0,5,6,7,8,97,1,45,6]\n",
    "lst_Mylist.sort()\n",
    "print(lst_Mylist)\n",
    "shuffle(lst_Mylist)\n",
    "print(lst_Mylist)"
   ]
  },
  {
   "cell_type": "code",
   "execution_count": 43,
   "metadata": {},
   "outputs": [
    {
     "data": {
      "text/plain": [
       "63"
      ]
     },
     "execution_count": 43,
     "metadata": {},
     "output_type": "execute_result"
    }
   ],
   "source": [
    "from random import randint\n",
    "randint(0,100) # (min,max)"
   ]
  },
  {
   "cell_type": "code",
   "execution_count": 73,
   "metadata": {},
   "outputs": [
    {
     "name": "stdout",
     "output_type": "stream",
     "text": [
      "Enter a number here-5\n",
      "<class 'str'>\n",
      "<class 'float'>\n",
      "<class 'int'>\n"
     ]
    }
   ],
   "source": [
    "a = input('Enter a number here') # All inputs are seen as string must\n",
    "                                 # Cast the result as a data type\n",
    "                                 # Verify data type is correct\n",
    "print(type(a))\n",
    "if (a.isnumeric):\n",
    "    a= float(a) # returns the number as a float if it is a .0 it will return \n",
    "         # looking like int\n",
    "    print(type(a))\n",
    "    a = int(a)\n",
    "    print(type(a))\n",
    "else:\n",
    "    pass"
   ]
  },
  {
   "cell_type": "code",
   "execution_count": 89,
   "metadata": {},
   "outputs": [
    {
     "data": {
      "text/plain": [
       "[0, 2, 4, 6, 8, 10]"
      ]
     },
     "execution_count": 89,
     "metadata": {},
     "output_type": "execute_result"
    }
   ],
   "source": [
    "mystring = 'hello'\n",
    "mylist = []\n",
    "for i in mystring: mylist.append(i)\n",
    "mylist\n",
    "mylist = [i for i in mystring]\n",
    "mylist\n",
    "mylist = [ i+3 for i in range(2,7,2)]\n",
    "mylist\n",
    "mylist = [ i for i in range(12) if i%2 == 0]\n",
    "mylist\n",
    "# All the examples are appending a table but it is implied so you don't\n",
    "# have to call it the first variable is the calculation to each table\n",
    "# element the second is the loop counter the third is what to itterate\n",
    "# mylist = [ <calculation> for <loopcounter> in <itterate variable> <logic test>]\n",
    "# mylist = [ <calculation> for <loopcounter> in <range(a,b,c)> <logic test>]\n"
   ]
  },
  {
   "cell_type": "code",
   "execution_count": 94,
   "metadata": {},
   "outputs": [
    {
     "data": {
      "text/plain": [
       "[2, 20, 2000, 4, 40, 4000, 6, 60, 6000]"
      ]
     },
     "execution_count": 94,
     "metadata": {},
     "output_type": "execute_result"
    }
   ],
   "source": [
    "mylist = [i*j for i in [2,4,6] for j in [1,10,1000]]\n",
    "mylist"
   ]
  },
  {
   "cell_type": "code",
   "execution_count": null,
   "metadata": {},
   "outputs": [],
   "source": []
  }
 ],
 "metadata": {
  "kernelspec": {
   "display_name": "Python 3",
   "language": "python",
   "name": "python3"
  },
  "language_info": {
   "codemirror_mode": {
    "name": "ipython",
    "version": 3
   },
   "file_extension": ".py",
   "mimetype": "text/x-python",
   "name": "python",
   "nbconvert_exporter": "python",
   "pygments_lexer": "ipython3",
   "version": "3.8.5"
  }
 },
 "nbformat": 4,
 "nbformat_minor": 4
}
